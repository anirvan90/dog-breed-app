{
 "cells": [
  {
   "cell_type": "code",
   "execution_count": 1,
   "metadata": {},
   "outputs": [
    {
     "name": "stderr",
     "output_type": "stream",
     "text": [
      "Using TensorFlow backend.\n"
     ]
    },
    {
     "name": "stdout",
     "output_type": "stream",
     "text": [
      "Loaded Model From Disk\n"
     ]
    }
   ],
   "source": [
    "from scipy.misc import imread, imresize, imshow\n",
    "import numpy as np\n",
    "import tensorflow as tf\n",
    "import keras.models\n",
    "from keras.utils import to_categorical\n",
    "from keras.preprocessing import image\n",
    "from keras.applications.xception import preprocess_input, decode_predictions\n",
    "import sys, os\n",
    "sys.path.append(os.path.abspath('./model'))\n",
    "from load import *\n",
    "global model, graph\n",
    "from scipy import ndimage\n",
    "import cv2\n",
    "\n",
    "model, graph = init()"
   ]
  },
  {
   "cell_type": "code",
   "execution_count": 12,
   "metadata": {},
   "outputs": [
    {
     "name": "stdout",
     "output_type": "stream",
     "text": [
      "./data/train/boxer\n"
     ]
    }
   ],
   "source": [
    "img_path = './data/test/brindle.jpeg'\n",
    "img = image.load_img(img_path, target_size=(229, 229))\n",
    "x = image.img_to_array(img)\n",
    "x = np.expand_dims(x, axis=0)\n",
    "x = preprocess_input(x)\n",
    "\n",
    "preds = model.predict(x)\n",
    "prediction = preds.argmax(axis=-1)\n",
    "\n",
    "\n",
    "from glob import glob\n",
    "class_names = glob(\"./data/train/*\") # Reads all the folders in which images are present\n",
    "class_names = sorted(class_names) # Sorting them\n",
    "name_id_map = dict(zip(range(len(class_names)), class_names))\n",
    "\n",
    "print(name_id_map[int(prediction)])"
   ]
  },
  {
   "cell_type": "code",
   "execution_count": null,
   "metadata": {
    "collapsed": true
   },
   "outputs": [],
   "source": [
    "# with graph.as_default():\n",
    "#     #perform the prediction\n",
    "#     out = model.predict(x)\n",
    "#     print(out)\n",
    "#     print(np.argmax(out,axis=1))\n",
    "#     print (\"debug3\")\n",
    "#     #convert the response to a string\n",
    "#     response = np.array_str(np.argmax(out,axis=1))\n",
    "#     return response"
   ]
  },
  {
   "cell_type": "code",
   "execution_count": null,
   "metadata": {
    "collapsed": true
   },
   "outputs": [],
   "source": []
  }
 ],
 "metadata": {
  "kernelspec": {
   "display_name": "Python 3",
   "language": "python",
   "name": "python3"
  },
  "language_info": {
   "codemirror_mode": {
    "name": "ipython",
    "version": 3
   },
   "file_extension": ".py",
   "mimetype": "text/x-python",
   "name": "python",
   "nbconvert_exporter": "python",
   "pygments_lexer": "ipython3",
   "version": "3.6.3"
  }
 },
 "nbformat": 4,
 "nbformat_minor": 2
}
